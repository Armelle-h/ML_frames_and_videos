{
  "cells": [
    {
      "cell_type": "markdown",
      "metadata": {
        "id": "view-in-github",
        "colab_type": "text"
      },
      "source": [
        "<a href=\"https://colab.research.google.com/github/Armelle-h/ML_frames_and_videos/blob/main/CosineSimilarity.ipynb\" target=\"_parent\"><img src=\"https://colab.research.google.com/assets/colab-badge.svg\" alt=\"Open In Colab\"/></a>"
      ]
    },
    {
      "cell_type": "markdown",
      "source": [
        "# CosineSimilarity.ipynb\n",
        "In this notebook, we create some `Pair_Frames` data objects, use it to obtain CLIP preprocessed feature, and use the cosine similarity to obtain a score for classification.\n",
        "## Imports:"
      ],
      "metadata": {
        "id": "bZC4vaMHCDme"
      }
    },
    {
      "cell_type": "code",
      "execution_count": null,
      "metadata": {
        "colab": {
          "base_uri": "https://localhost:8080/"
        },
        "id": "BYx7q5FWdHwq",
        "outputId": "56b677a7-d0ae-47ca-dc90-0053527c9577"
      },
      "outputs": [
        {
          "output_type": "stream",
          "name": "stdout",
          "text": [
            "Drive already mounted at /content/drive; to attempt to forcibly remount, call drive.mount(\"/content/drive\", force_remount=True).\n",
            "The autoreload extension is already loaded. To reload it, use:\n",
            "  %reload_ext autoreload\n",
            "Looking in indexes: https://pypi.org/simple, https://us-python.pkg.dev/colab-wheels/public/simple/\n",
            "Requirement already satisfied: ftfy in /usr/local/lib/python3.8/dist-packages (6.1.1)\n",
            "Requirement already satisfied: wcwidth>=0.2.5 in /usr/local/lib/python3.8/dist-packages (from ftfy) (0.2.5)\n",
            "Looking in indexes: https://pypi.org/simple, https://us-python.pkg.dev/colab-wheels/public/simple/\n",
            "Requirement already satisfied: torchmetrics in /usr/local/lib/python3.8/dist-packages (0.11.0)\n",
            "Requirement already satisfied: typing-extensions in /usr/local/lib/python3.8/dist-packages (from torchmetrics) (4.4.0)\n",
            "Requirement already satisfied: packaging in /usr/local/lib/python3.8/dist-packages (from torchmetrics) (21.3)\n",
            "Requirement already satisfied: torch>=1.8.1 in /usr/local/lib/python3.8/dist-packages (from torchmetrics) (1.13.0+cu116)\n",
            "Requirement already satisfied: numpy>=1.17.2 in /usr/local/lib/python3.8/dist-packages (from torchmetrics) (1.21.6)\n",
            "Requirement already satisfied: pyparsing!=3.0.5,>=2.0.2 in /usr/local/lib/python3.8/dist-packages (from packaging->torchmetrics) (3.0.9)\n"
          ]
        }
      ],
      "source": [
        "from google.colab import drive #allows you to have access to google drive from google colab\n",
        "drive.mount('/content/drive')\n",
        "import sys\n",
        "sys.path.insert(0,'/content/drive/MyDrive/ML_project_frames_and_videos') #For other uses, replace with the path of the working folder\n",
        "\n",
        "import random\n",
        "import os\n",
        "import numpy as np\n",
        "import torch\n",
        "from torch.utils.data import DataLoader\n",
        "import matplotlib.pyplot as plt\n",
        "%matplotlib inline\n",
        "%load_ext autoreload\n",
        "%autoreload 2\n",
        "! pip install ftfy\n",
        "! pip install torchmetrics\n",
        "import torchmetrics\n",
        "from tqdm import tqdm # to display loading bars\n",
        "\n",
        "from Pair_Frames import Pair_Frames"
      ]
    },
    {
      "cell_type": "markdown",
      "source": [
        "## Create train data with `Pair_Frames`:"
      ],
      "metadata": {
        "id": "OP5tHhFUDF58"
      }
    },
    {
      "cell_type": "markdown",
      "source": [],
      "metadata": {
        "id": "O6G5nwelKR3R"
      }
    },
    {
      "cell_type": "code",
      "execution_count": null,
      "metadata": {
        "id": "Oxd1jfradlQw"
      },
      "outputs": [],
      "source": [
        "device = torch.device(\"cuda:0\" if torch.cuda.is_available() else \"cpu\") # select the device to use\n",
        "video_dir='/content/drive/MyDrive/ML_project_frames_and_videos/DATA/videos' # the video directory\n",
        "train_data = Pair_Frames(video_dir, train=0, device=device) # create the train data object\n",
        "train_dataloader = DataLoader(train_data, batch_size=1, shuffle=True,pin_memory=False) # create the iterable dataloader"
      ]
    },
    {
      "cell_type": "markdown",
      "source": [
        "## Iterate through the train data and get cosine similarity:"
      ],
      "metadata": {
        "id": "7MwCQthBDTBj"
      }
    },
    {
      "cell_type": "code",
      "execution_count": null,
      "metadata": {
        "colab": {
          "base_uri": "https://localhost:8080/"
        },
        "id": "P1uzNekKeN3I",
        "outputId": "75de9fe4-766f-41d6-9a59-61728fd0caee"
      },
      "outputs": [
        {
          "output_type": "stream",
          "name": "stderr",
          "text": [
            "100%|██████████| 10000/10000 [1:52:55<00:00,  1.48it/s]\n"
          ]
        }
      ],
      "source": [
        "labels = []\n",
        "scores = []\n",
        "cos = torch.nn.CosineSimilarity() # the cosimilarity function\n",
        "\n",
        "maxiter = 7000\n",
        "\n",
        "for i, (feature1, feature2, label) in enumerate(tqdm(train_dataloader,total=maxiter)):\n",
        "    if i >= maxiter:\n",
        "        break\n",
        "    feature1 = feature1.cpu().float()\n",
        "    feature2 = feature2.cpu().float()\n",
        "    label = label.cpu()\n",
        "\n",
        "    scores.append(cos(feature1, feature2).item())\n",
        "    labels.append(label.item())\n",
        "\n",
        "labels = torch.tensor(labels)\n",
        "scores = torch.tensor(scores)"
      ]
    },
    {
      "cell_type": "markdown",
      "source": [
        "# Compute the best accuracy threshold and display the results:"
      ],
      "metadata": {
        "id": "FYxGn9IkDmX_"
      }
    },
    {
      "cell_type": "code",
      "execution_count": null,
      "metadata": {
        "id": "SC_c7RS6exku",
        "colab": {
          "base_uri": "https://localhost:8080/",
          "height": 421
        },
        "outputId": "aa08e8de-0b58-43fa-9913-505ffa27d64d"
      },
      "outputs": [
        {
          "output_type": "stream",
          "name": "stdout",
          "text": [
            "The optimal accuracy is obtained at threshold = 0.6845194697380066 with accuracy = 0.8927000164985657\n"
          ]
        },
        {
          "output_type": "display_data",
          "data": {
            "text/plain": [
              "<Figure size 504x432 with 1 Axes>"
            ],
            "image/png": "[encoded data removed]"
          },
          "metadata": {
            "needs_background": "light"
          }
        }
      ],
      "source": [
        "roc = torchmetrics.classification.BinaryROC(thresholds=None) # roc curve computation function\n",
        "# false positive rates and true positive rates of selected thresholds:\n",
        "fpr, tpr, thresholds = roc(scores, labels)\n",
        "accu = torchmetrics.functional.classification.binary_accuracy\n",
        "accuracies = [accu(scores, labels, float(threshold)) for threshold in thresholds]\n",
        "# compute best accuracy:\n",
        "index_max = np.argmax(accuracies)\n",
        "threshold = float(thresholds[index_max])\n",
        "accuracy = float(accuracies[index_max])\n",
        "# displays:\n",
        "plt.figure(figsize=(7,6))\n",
        "plt.plot(fpr, tpr)\n",
        "plt.title(\"ROC curve\")\n",
        "plt.xlabel(\"Flase positive rate\")\n",
        "plt.ylabel(\"True positive rate\")\n",
        "plt.plot(fpr[index_max], tpr[index_max],'o',label=\"Optimal accuracy threshold =\"+str(threshold)+ \"\\n with accuracy =\"+str(accuracy))\n",
        "plt.legend()\n",
        "plt.title(\"ROC curve of the cosine similarity\")\n",
        "# plt.savefig(\"/content/drive/MyDrive/ML_project_frames_and_videos/Graphics/CosineSimilarityROC.pdf\") # un-comment to save\n",
        "print(\"The optimal accuracy is obtained at threshold =\", threshold, \"with accuracy =\", accuracy)"
      ]
    },
    {
      "cell_type": "markdown",
      "source": [
        "# Create test data with `Pair_Frames`:"
      ],
      "metadata": {
        "id": "zyDFSK0xD448"
      }
    },
    {
      "cell_type": "code",
      "source": [
        "threshold = 0.6845194697380066 # the optimal threshold obtained in the last part\n",
        "device = torch.device(\"cuda:0\" if torch.cuda.is_available() else \"cpu\") # select the device to use\n",
        "video_dir='/content/drive/MyDrive/ML_project_frames_and_videos/DATA/videos' # the video directory\n",
        "length = 1500\n",
        "validation_data = Pair_Frames(video_dir, train=1, length=length, device=device) # create the train data object\n",
        "validation_dataloader = DataLoader(validation_data, batch_size=1, shuffle=True,pin_memory=False) # create the iterable dataloader"
      ],
      "metadata": {
        "id": "-ZBuM-xRIIcf"
      },
      "execution_count": null,
      "outputs": []
    },
    {
      "cell_type": "markdown",
      "source": [
        "## Iterate through the test data, get cosine similarity, and predict the label according to the threshold:"
      ],
      "metadata": {
        "id": "gaKjSYYsEAM7"
      }
    },
    {
      "cell_type": "code",
      "source": [
        "cos = torch.nn.CosineSimilarity() # the cosimilarity function\n",
        "labels = []\n",
        "predictions = []\n",
        "\n",
        "for i, (feature1, feature2, label) in enumerate(tqdm(validation_dataloader)):\n",
        "    feature1 = feature1.cpu().float()\n",
        "    feature2 = feature2.cpu().float()\n",
        "    labels.append(label.cpu())\n",
        "    predictions.append(int(threshold < cos(feature1, feature2).item()))\n",
        "\n",
        "labels = torch.tensor(labels)\n",
        "predictions = torch.tensor(predictions)"
      ],
      "metadata": {
        "id": "GFyP0rBtJOo1"
      },
      "execution_count": null,
      "outputs": []
    },
    {
      "cell_type": "markdown",
      "source": [
        "## Compute the accurcy and some metrics, display the results:"
      ],
      "metadata": {
        "id": "zeYliOXTEWNg"
      }
    },
    {
      "cell_type": "code",
      "source": [
        "# computation of the numbers of True/False Positives/Negatives :\n",
        "tp, fp, tn, fn, _ = torchmetrics.functional.classification.binary_stat_scores(predictions, labels)\n",
        "# use them to compute accuracy and F1 score:\n",
        "accuracy = (tp+tn) /length\n",
        "F1_score = 2*tp / (2*tp + fp + fn)\n",
        "print(\"On the validation set:\")\n",
        "print(\"true positive =\", tp.item(), \", false positive =\", fp.item())\n",
        "print(\"true negative =\", tn.item(), \", false negative =\",fn.item())\n",
        "print(\"accuracy =\", accuracy.item(), \", F1 score =\", F1_score.item())"
      ],
      "metadata": {
        "colab": {
          "base_uri": "https://localhost:8080/"
        },
        "id": "aiTW3uxqdOsZ",
        "outputId": "73aff86d-a10f-4df7-ccff-2bcb375ff0a8"
      },
      "execution_count": null,
      "outputs": [
        {
          "output_type": "stream",
          "name": "stdout",
          "text": [
            "On the validation set:\n",
            "true positive = 608 , false positive = 7\n",
            "true negative = 711 , false negative = 174\n",
            "accuracy = 0.8793333172798157 , F1 score = 0.8704366683959961\n"
          ]
        }
      ]
    }
  ],
  "metadata": {
    "colab": {
      "provenance": [],
      "include_colab_link": true
    },
    "gpuClass": "standard",
    "kernelspec": {
      "display_name": "Python 3",
      "name": "python3"
    },
    "language_info": {
      "name": "python"
    },
    "accelerator": "GPU"
  },
  "nbformat": 4,
  "nbformat_minor": 0
}